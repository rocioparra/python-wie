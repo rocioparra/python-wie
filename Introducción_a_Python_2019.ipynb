{
  "nbformat": 4,
  "nbformat_minor": 0,
  "metadata": {
    "colab": {
      "name": "Introducción_a_Python_2019.ipynb",
      "provenance": [],
      "collapsed_sections": [],
      "toc_visible": true
    },
    "kernelspec": {
      "name": "python3",
      "display_name": "Python 3"
    }
  },
  "cells": [
    {
      "cell_type": "markdown",
      "metadata": {
        "id": "zUpAx4mvVgz6",
        "colab_type": "text"
      },
      "source": [
        "## Introducción a la programación\n",
        "\n",
        "\n",
        "La programación consiste en la actividad de indicarle a un dispositivo electronico cómo realizar una tarea, y, en particular cómo interactuar con el usuario para llevarla a cabo. En efecto, cuando se habla de un programa, se lo suele asociar con una serie de instrucciones u órdenes a seguir por el dispositivo en cuestión.\n",
        "\n",
        "Es común modelar a un programa como una \"caja\" con una \"entrada\" y una \"salida\" de información. \n",
        "\n",
        "<img src=\"https://www.kiwiqa.com/wp-content/uploads/2018/08/blackbox-testing-min-1000x600.jpg\" alt = \"Black Box Testing - Input->Programa -> Output\" title= \"Entra x, sale y\">\n",
        "\n",
        "Por ejemplo, los teléfonos celulares son dispositivos electrónicos que necesitan programación para funcionar. A un teléfono celular se le da información por medio de la pantalla táctil. Esta es procesada mediante un programa cuyos resultados son mostrados en la pantalla.\n",
        "\n",
        "\n",
        "## Lenguajes de programación\n",
        "Un lenguaje de programación es un [lenguaje formal](https://es.wikipedia.org/wiki/Lenguaje_formal) que proporciona una serie de instrucciones las cuales permiten a un programador escribir las secuencias de órdenes necesarias para controlar el comportamiento físico y lógico de la computadora.\n",
        "\n",
        "Algunos de los lenguajes mas populares en los últimos tiempos (lejos de ser los únicos) son Python, Java, C++, JavaScript, PHP, etc.\n",
        "\n",
        "<img src=\"https://miro.medium.com/max/838/1*L5QyrMNalM3yhtgdgBcvkQ.png\" height=\"300\" alt = \"Collage de lenguajes de programación populares\" title=\"Hay varios otros lenguajes, como Go, Go!, Gosu etc. \">\n",
        "\n",
        "## ¿Por qué Python?\n",
        "Elegimos Python porque es uno de los lenguajes de programación con reglas más simples e intuitivas que existen; lo cual explica la creciente popularidad que ha tenido en los ultimos tiempos.\n",
        "\n",
        "A pesar de su simpleza, es muy utilizado tanto en la industria para servidores y servicios web, así como también en el área academica para redes neuronales, deep learning, simulación, etc.\n",
        "\n",
        "La comunidad de Python es una de las más grandes. Por lo tanto cualquier duda que tengan, a partir de ahora, Google es su amigo: pueden buscar la duda que tengan y seguramente alguien ya haya tenido ese problema. Uno de los sitios web más conocidos para este fin es [StackOverflow](https://stackoverflow.com/)\n",
        "\n",
        "\n"
      ]
    },
    {
      "cell_type": "markdown",
      "metadata": {
        "id": "o7iXxeQFsblK",
        "colab_type": "text"
      },
      "source": [
        "## Variables\n",
        "\n",
        "En programación, el concepto de variables es un espacio donde se puede almacenar información.\n",
        "\n",
        "En python esto se logra de la siguiente manera:\n",
        "\n",
        "\n"
      ]
    },
    {
      "cell_type": "code",
      "metadata": {
        "id": "dFdsoISPuvyX",
        "colab_type": "code",
        "outputId": "7d6bbdb6-880b-4946-90b1-cc40d96e00a4",
        "colab": {
          "base_uri": "https://localhost:8080/",
          "height": 34
        }
      },
      "source": [
        "x = 7\n",
        "x"
      ],
      "execution_count": 0,
      "outputs": [
        {
          "output_type": "execute_result",
          "data": {
            "text/plain": [
              "7"
            ]
          },
          "metadata": {
            "tags": []
          },
          "execution_count": 1
        }
      ]
    },
    {
      "cell_type": "markdown",
      "metadata": {
        "id": "d3b-updXAmho",
        "colab_type": "text"
      },
      "source": [
        "En estas variables podemos guardar lo que sea necesario para ejecutar el programa, por ejemplo si necesitamos guardar texto se indica con: \"(texto)\" o '(texto)'."
      ]
    },
    {
      "cell_type": "code",
      "metadata": {
        "id": "ZaesnOreAx4q",
        "colab_type": "code",
        "outputId": "8307cf00-083a-4f1f-da5b-290d5f2af935",
        "colab": {
          "base_uri": "https://localhost:8080/",
          "height": 34
        }
      },
      "source": [
        "x = 'Hola'\n",
        "y = \"Como\"\n",
        "y"
      ],
      "execution_count": 0,
      "outputs": [
        {
          "output_type": "execute_result",
          "data": {
            "text/plain": [
              "'Como'"
            ]
          },
          "metadata": {
            "tags": []
          },
          "execution_count": 2
        }
      ]
    },
    {
      "cell_type": "markdown",
      "metadata": {
        "id": "yZl-KaXPCXru",
        "colab_type": "text"
      },
      "source": [
        "## Input - Output\n",
        "El input de un programa es la manera de recibir información del entorno externo al programa. Esto puede ser un usuario, un archivo, otro programa, un sensor, etc. \n",
        "\n",
        "El output de un programa es la manera de transmitir información hacia el entorno externo. Por ejemplo, puede escribir en la consola de la computadora, puede generar una imagen, etc. En GoogleColaboratory veremos el output del programa debajo de la celda donde fue ejecutado.\n",
        "\n",
        "Para poder mostrar el contenido de una variable podemos utilizar **print**(variable):"
      ]
    },
    {
      "cell_type": "code",
      "metadata": {
        "id": "C1c66KXWCwpD",
        "colab_type": "code",
        "colab": {}
      },
      "source": [
        "print(\"Hola como estas\")"
      ],
      "execution_count": 0,
      "outputs": []
    },
    {
      "cell_type": "markdown",
      "metadata": {
        "id": "LaLS532qC2sr",
        "colab_type": "text"
      },
      "source": [
        "¿Qué imprimirá el siguiente codigo?"
      ]
    },
    {
      "cell_type": "code",
      "metadata": {
        "id": "JECLPVC2C6XH",
        "colab_type": "code",
        "outputId": "d40ab65e-8fa0-4f04-b980-61871c38e806",
        "colab": {
          "base_uri": "https://localhost:8080/",
          "height": 34
        }
      },
      "source": [
        "print(y)"
      ],
      "execution_count": 0,
      "outputs": [
        {
          "output_type": "stream",
          "text": [
            "Como\n"
          ],
          "name": "stdout"
        }
      ]
    },
    {
      "cell_type": "markdown",
      "metadata": {
        "id": "pvDfQCPsC8xc",
        "colab_type": "text"
      },
      "source": [
        "Para ingresar una variable podemos usar **input**(). Corran este código ustedes para que les de una pequeña casilla donde escribir, y luego el programa escribirá lo que ustedes ingresaron."
      ]
    },
    {
      "cell_type": "code",
      "metadata": {
        "id": "Iuzty4svDEDy",
        "colab_type": "code",
        "outputId": "4afb139e-c6f1-4b0f-cb74-f41f6f8059fc",
        "colab": {
          "base_uri": "https://localhost:8080/",
          "height": 51
        }
      },
      "source": [
        "x = input()\n",
        "print(x)"
      ],
      "execution_count": 0,
      "outputs": [
        {
          "output_type": "stream",
          "text": [
            "aguante python\n",
            "aguante python\n"
          ],
          "name": "stdout"
        }
      ]
    },
    {
      "cell_type": "markdown",
      "metadata": {
        "id": "uNa0exphDxse",
        "colab_type": "text"
      },
      "source": [
        "## Operaciones básicas con variables\n",
        "\n",
        "\n"
      ]
    },
    {
      "cell_type": "markdown",
      "metadata": {
        "id": "ZM7lIDcRPdtk",
        "colab_type": "text"
      },
      "source": [
        "### Operaciones de modificación\n",
        "No seria muy útil un programa si lo único que podemos hacer es guardar en una variable y mostrarla, por lo que podemos realizar algunas operaciones basicas que nos perimiten modificar el contenido:\n",
        "\n",
        "\n",
        "*   **+** : Sumar dos variables $a+b$\n",
        "*   **-**  : Restar dos variables $a-b$\n",
        "*   \\* : Multiplicar dos variables $a\\cdot b$\n",
        "*   / : Dividir una variable por la otra $\\frac{a}{b}$\n",
        "*    \\*\\*   : Una variable elevado a la otra $a^{b}$\n",
        "*   **=** : Asignarle un valor a una variable $a \\leftarrow b$\n",
        "\n",
        "¿Cual será la salida del siguiente programa?"
      ]
    },
    {
      "cell_type": "code",
      "metadata": {
        "id": "LrkSFD2zFKo9",
        "colab_type": "code",
        "outputId": "f097be81-1612-4079-813a-620792f5cacc",
        "colab": {
          "base_uri": "https://localhost:8080/",
          "height": 51
        }
      },
      "source": [
        "x = 3\n",
        "y = -2\n",
        "\n",
        "x = x**2\n",
        "y = x*y\n",
        "\n",
        "print(y)\n",
        "print(x)"
      ],
      "execution_count": 0,
      "outputs": [
        {
          "output_type": "stream",
          "text": [
            "-18\n",
            "9\n"
          ],
          "name": "stdout"
        }
      ]
    },
    {
      "cell_type": "markdown",
      "metadata": {
        "id": "sHe-S2KcF_hT",
        "colab_type": "text"
      },
      "source": [
        "Python nos permite ahorrar código combinando el operando **=** con alguno de los anteriormente vistos:\n",
        "\n",
        "\n",
        "*   \\*=: Multiplica la variable $a \\leftarrow a\\cdot b$ \n",
        "*   /= : Divide la variable  $a \\leftarrow \\frac{a}{b}$ \n",
        "*   += : Suma a la varaible  $a \\leftarrow a+ b$ \n",
        "*   -=: Resta a la variable $a \\leftarrow a- b$\n",
        "\n",
        "¿Cual será la salida del siguiente codigo?"
      ]
    },
    {
      "cell_type": "code",
      "metadata": {
        "id": "ndLR4DOcHIOb",
        "colab_type": "code",
        "outputId": "ac421737-022e-43a9-ba48-af47390bc7aa",
        "colab": {
          "base_uri": "https://localhost:8080/",
          "height": 34
        }
      },
      "source": [
        "x/=10\n",
        "print(x)"
      ],
      "execution_count": 0,
      "outputs": [
        {
          "output_type": "stream",
          "text": [
            "0.9\n"
          ],
          "name": "stdout"
        }
      ]
    },
    {
      "cell_type": "markdown",
      "metadata": {
        "id": "78iBTQVNISi7",
        "colab_type": "text"
      },
      "source": [
        "### Operaciones de comparación\n",
        "Existen operaciones donde se comparan las propiedades de una variable.\n",
        "*    <  : Menor que $a < b$\n",
        "*    \\>  : Mayor que $a > b$\n",
        "*   **<=** : Menor o igual que $a \\leq b$\n",
        "*   **>=** : Mayor o igual que $a \\geq b$\n",
        "*   **==** : Es igual $a = b$\n",
        "\n",
        "Al comprarar dos números se obtiene True o False según si se cumple la condición:"
      ]
    },
    {
      "cell_type": "code",
      "metadata": {
        "id": "xlYwcqQrOy5I",
        "colab_type": "code",
        "outputId": "1d6c0f10-747f-46c5-874a-4a2d89ebce27",
        "colab": {
          "base_uri": "https://localhost:8080/",
          "height": 51
        }
      },
      "source": [
        "x = 4\n",
        "print(x>=4)\n",
        "print(x<3)"
      ],
      "execution_count": 0,
      "outputs": [
        {
          "output_type": "stream",
          "text": [
            "True\n",
            "False\n"
          ],
          "name": "stdout"
        }
      ]
    },
    {
      "cell_type": "code",
      "metadata": {
        "id": "cVMrA726NSf9",
        "colab_type": "code",
        "colab": {}
      },
      "source": [
        "x = input()\n",
        "x= 2*x\n",
        "print(x)"
      ],
      "execution_count": 0,
      "outputs": []
    },
    {
      "cell_type": "markdown",
      "metadata": {
        "id": "julg_kMLTzCT",
        "colab_type": "text"
      },
      "source": [
        "También podemos comparar muchas condiciones utilzando:\n",
        "*  **and**: Si se cumplen las dos condiciones $a \\land b$\n",
        "*  **or**: Si se cumple alguna de las condiciones $ a \\lor b$\n",
        "*  **not**: Si no se cumple esa condición $ \\overline{a} $\n",
        "\n",
        "Veamos un ejemplo:"
      ]
    },
    {
      "cell_type": "code",
      "metadata": {
        "id": "uGxeHWppUKLP",
        "colab_type": "code",
        "outputId": "37c9e653-2bd7-461f-a72c-3f8394c42cfd",
        "colab": {
          "base_uri": "https://localhost:8080/",
          "height": 68
        }
      },
      "source": [
        "x = 4\n",
        "y = x>5 and x < 7\n",
        "z = x>5 or x <7\n",
        "k = not x>5\n",
        "print(y)\n",
        "print(z)\n",
        "print(k)"
      ],
      "execution_count": 0,
      "outputs": [
        {
          "output_type": "stream",
          "text": [
            "False\n",
            "True\n",
            "True\n"
          ],
          "name": "stdout"
        }
      ]
    },
    {
      "cell_type": "markdown",
      "metadata": {
        "id": "2cJd7NrKV9dK",
        "colab_type": "text"
      },
      "source": [
        "Estas condiciones pueden agruparse con ( condicion1 ) **and/or** ( condicion2 ), esto permite chequar condiciones complejas:"
      ]
    },
    {
      "cell_type": "code",
      "metadata": {
        "id": "4LYKsyiXLAWW",
        "colab_type": "code",
        "colab": {}
      },
      "source": [
        "x = 10\n",
        "y = 5\n",
        "z = (y > x and 15 > x) or (y < x and 15 > x)\n",
        "print(z)"
      ],
      "execution_count": 0,
      "outputs": []
    },
    {
      "cell_type": "markdown",
      "metadata": {
        "id": "AYq-AN6NApti",
        "colab_type": "text"
      },
      "source": [
        "### Ejercicio\n",
        "Hacer un programa que imprima un mensaje de bienvenida y pida una contraseña, y que imprima \"True\" o \"False\" según corresponda."
      ]
    },
    {
      "cell_type": "code",
      "metadata": {
        "id": "0ZmBW555BK8H",
        "colab_type": "code",
        "colab": {}
      },
      "source": [
        "# resolucion:\n",
        "# ..."
      ],
      "execution_count": 0,
      "outputs": []
    },
    {
      "cell_type": "markdown",
      "metadata": {
        "id": "KGPMKjbABDrz",
        "colab_type": "text"
      },
      "source": [
        "## Flujo de Programa\n",
        "Los programas siguen un \"flujo\" definido por el programador. Esto le permite realizar operaciones complejas. Notar que todas estas estructuras terminan con un ** : **, y la siguiente línea tiene un tab de indentación.\n",
        "\n",
        "\n",
        "###   Estructura if\n",
        "Es la estructura básica que le permite al programador ver si se cumple una condición, y realizar distintas acciones según si eso sucede o no.\n",
        "\n",
        "**if** (condicion):\n",
        "    \n",
        "    ... lo que se hace si se cumple la condición\n",
        "    \n",
        "**elif** (condicion2):\n",
        "\n",
        "    ... lo que se hace si se cumple la condicion2\n",
        "     \n",
        "**else**:\n",
        "\n",
        "    ... lo que se hace si no se cumple la condición\n",
        "    \n",
        "\n",
        "\n",
        "\n",
        " Siempre se comienza con **if**, después puede haber cualquier cantidad de **elif** (o ninguno). y luego se puede terminar con **else** (o no). Luego del **else** no puede haber más **elif**.\n",
        " \n",
        "\n",
        "\n"
      ]
    },
    {
      "cell_type": "markdown",
      "metadata": {
        "id": "rqyrcoqnPmi3",
        "colab_type": "text"
      },
      "source": [
        "¿Cual será la salida del siguiente programa?"
      ]
    },
    {
      "cell_type": "code",
      "metadata": {
        "id": "Y9oaFC5vCFB7",
        "colab_type": "code",
        "outputId": "395c4c05-62b6-4bad-ed01-49406bffb298",
        "colab": {
          "base_uri": "https://localhost:8080/",
          "height": 34
        }
      },
      "source": [
        "x = 5\n",
        "y = 5\n",
        "if x==y:\n",
        "    print(x)\n",
        "elif y<5 or y>7:\n",
        "    print(x+y)\n",
        "else:\n",
        "    print(y)"
      ],
      "execution_count": 0,
      "outputs": [
        {
          "output_type": "stream",
          "text": [
            "5\n"
          ],
          "name": "stdout"
        }
      ]
    },
    {
      "cell_type": "markdown",
      "metadata": {
        "id": "ENgdsr2KxQSB",
        "colab_type": "text"
      },
      "source": [
        "### Indentation (sangria)\n",
        "En los programas de python es fundamental saber que el espaciado de las sentencias hace una diferencia. No usar el espaciado correcto puede llevar a lo que es conocido como IndentationError.\n"
      ]
    },
    {
      "cell_type": "code",
      "metadata": {
        "id": "HTS4XTBuxZM3",
        "colab_type": "code",
        "colab": {}
      },
      "source": [
        "if x==y:            # Ejemplo indentation\n",
        "    print(x)        # Sacarle la sangria a esta linea y correr el programa"
      ],
      "execution_count": 0,
      "outputs": []
    },
    {
      "cell_type": "markdown",
      "metadata": {
        "id": "lB8yO0QQyByW",
        "colab_type": "text"
      },
      "source": [
        "### Más ejemplos con 'if'"
      ]
    },
    {
      "cell_type": "code",
      "metadata": {
        "id": "ejJfMzOtQL00",
        "colab_type": "code",
        "outputId": "97825dd6-1b92-43e2-ca8a-d686dc04e040",
        "colab": {
          "base_uri": "https://localhost:8080/",
          "height": 51
        }
      },
      "source": [
        "x = -1\n",
        "y = 4\n",
        "\n",
        "if y == 5:\n",
        "    print(\"adivinamos el valor de y!\")      \n",
        "    \n",
        "if x == 5:\n",
        "    print(\"adivinamos el valor de x!\")\n",
        "else:\n",
        "    print(\"no adivinamos el valor de x ))):\")\n",
        "    \n",
        "if x > y:\n",
        "    print(\"x es mayor que y\")\n",
        "elif x < y:\n",
        "    print(\"y es mayor que x\")\n",
        "elif x == y:\n",
        "    print(\"x e y son iguales\")\n",
        "else:\n",
        "    print(\"que?????\")"
      ],
      "execution_count": 0,
      "outputs": [
        {
          "output_type": "stream",
          "text": [
            "no adivinamos el valor de x ))):\n",
            "y es mayor que x\n"
          ],
          "name": "stdout"
        }
      ]
    },
    {
      "cell_type": "markdown",
      "metadata": {
        "id": "J0shbiwuHYah",
        "colab_type": "text"
      },
      "source": [
        "\n",
        "\n",
        "###  Estructura while\n",
        "Permite ejecutar operaciones mientras se cumpla una condición.\n",
        "\n",
        "**while** (Condicion):\n",
        "\n",
        "    ... lo que se hace mientras se cumpla la condicion\n",
        "\n",
        "**else** :\n",
        "\n",
        "    ... Se ejecuta cuando la condicion no se cumple más\n",
        "    \n",
        "Esto introduce otra estructura basica de un programa que son los ciclos (loops o bucles). En código se ve de la siguiente manera:\n",
        "\n"
      ]
    },
    {
      "cell_type": "code",
      "metadata": {
        "id": "LLcZ4LH3CMUt",
        "colab_type": "code",
        "outputId": "74bd0a58-fc69-40b8-9f11-a23768fa049f",
        "colab": {
          "base_uri": "https://localhost:8080/",
          "height": 170
        }
      },
      "source": [
        "x = 1\n",
        "while x<10:\n",
        "    x+=1\n",
        "    print(x)\n",
        "    \n"
      ],
      "execution_count": 0,
      "outputs": [
        {
          "output_type": "stream",
          "text": [
            "2\n",
            "3\n",
            "4\n",
            "5\n",
            "6\n",
            "7\n",
            "8\n",
            "9\n",
            "10\n"
          ],
          "name": "stdout"
        }
      ]
    },
    {
      "cell_type": "markdown",
      "metadata": {
        "id": "tzu1YFDNQTQu",
        "colab_type": "text"
      },
      "source": [
        "Es importante tener en cuenta que la condición se evalúa sólo al principio del loop.\n",
        "\n",
        "¿Qué imprimirá este programa?"
      ]
    },
    {
      "cell_type": "code",
      "metadata": {
        "id": "GGIT1bOlQlw_",
        "colab_type": "code",
        "outputId": "ddc34d2d-9bd4-4934-a325-2d359fe61d4c",
        "colab": {
          "base_uri": "https://localhost:8080/",
          "height": 68
        }
      },
      "source": [
        "x = 1\n",
        "while x<=3:\n",
        "    x += 1\n",
        "    print(x)"
      ],
      "execution_count": 0,
      "outputs": [
        {
          "output_type": "stream",
          "text": [
            "2\n",
            "3\n",
            "4\n"
          ],
          "name": "stdout"
        }
      ]
    },
    {
      "cell_type": "markdown",
      "metadata": {
        "id": "KHHwPfH3QZQO",
        "colab_type": "text"
      },
      "source": [
        "#### Ejercicio If y While\n",
        "Implementa un programa que imprima los cuadrados de los números impares entre 1 y 10\n",
        "\n",
        "\n"
      ]
    },
    {
      "cell_type": "code",
      "metadata": {
        "id": "ELNQM61IIni8",
        "colab_type": "code",
        "colab": {}
      },
      "source": [
        "# solucion:\n",
        "# ...\n"
      ],
      "execution_count": 0,
      "outputs": []
    },
    {
      "cell_type": "markdown",
      "metadata": {
        "id": "T-KOiUHbLcde",
        "colab_type": "text"
      },
      "source": [
        "### Estructura for\n",
        "\n",
        "La estructura del **for** permite realizar una serie de acciones con una variable, que cambia su valor en cada repetición (iteración). ¿Qué significa esto? Permite realizar la misma \n",
        "\n",
        "**for** (variable) **in** (conjunto de variables):\n",
        "\n",
        "    ... Lo que quieras hacer con tu variable\n",
        "\n",
        "Veámoslo en un ejemplo de codigo:\n"
      ]
    },
    {
      "cell_type": "code",
      "metadata": {
        "id": "Cwo3zZy5I3x_",
        "colab_type": "code",
        "outputId": "b9f65bab-438a-4b12-d38a-edb4d2dc872c",
        "colab": {
          "base_uri": "https://localhost:8080/",
          "height": 187
        }
      },
      "source": [
        "for x in range(10, 0, -1):\n",
        "    print(x)"
      ],
      "execution_count": 0,
      "outputs": [
        {
          "output_type": "stream",
          "text": [
            "10\n",
            "9\n",
            "8\n",
            "7\n",
            "6\n",
            "5\n",
            "4\n",
            "3\n",
            "2\n",
            "1\n"
          ],
          "name": "stdout"
        }
      ]
    },
    {
      "cell_type": "markdown",
      "metadata": {
        "id": "VujdlKBZMfE3",
        "colab_type": "text"
      },
      "source": [
        "**range**(a,b,d)  nos genera los valores desde a hasta b con incrementos de d, por ejemplo el siguiente codigo generara los numeros pares entre 0 y 10:\n",
        "\n"
      ]
    },
    {
      "cell_type": "code",
      "metadata": {
        "id": "XCHNbgvEMdIb",
        "colab_type": "code",
        "outputId": "17d18c44-da6f-40d5-f309-4002d6e718a1",
        "colab": {
          "base_uri": "https://localhost:8080/",
          "height": 54
        }
      },
      "source": [
        "for x in range(0,10,5):\n",
        "    print(x)"
      ],
      "execution_count": 0,
      "outputs": [
        {
          "output_type": "stream",
          "text": [
            "0\n",
            "5\n"
          ],
          "name": "stdout"
        }
      ]
    },
    {
      "cell_type": "markdown",
      "metadata": {
        "id": "UoNf8Ce-NAi5",
        "colab_type": "text"
      },
      "source": [
        "#### Ejercicio for\n",
        "Realizar la siguiente secuencia de datos utilizando un for y un if\n",
        "\n",
        "0,1,4,9,4,5,6"
      ]
    },
    {
      "cell_type": "code",
      "metadata": {
        "id": "E3NctxBaM3kG",
        "colab_type": "code",
        "colab": {}
      },
      "source": [
        ""
      ],
      "execution_count": 0,
      "outputs": []
    },
    {
      "cell_type": "markdown",
      "metadata": {
        "id": "c7yp28PPRflm",
        "colab_type": "text"
      },
      "source": [
        "## Listas\n",
        "Es una estructura de datos muy sencilla: nos permite almacenar elementos de manera secuencial, los cuales pueden ser accedidos mediante el conocimiento de su posición en la lista. Estas las creeamos de la siguiente manera:\n",
        "\n",
        "> a = **[** $ a_{0},a_{1},a_{2},\\dots $ **]**\n",
        "\n",
        "A continuación se mostrara un ejemplo sencillo con una lista"
      ]
    },
    {
      "cell_type": "code",
      "metadata": {
        "id": "UvDCeq2FRrEh",
        "colab_type": "code",
        "outputId": "8db2bb84-073c-410b-ed5d-f24722f0a006",
        "colab": {
          "base_uri": "https://localhost:8080/",
          "height": 54
        }
      },
      "source": [
        "a = list(range(0,100,1))\n",
        "print(a)"
      ],
      "execution_count": 0,
      "outputs": [
        {
          "output_type": "stream",
          "text": [
            "[0, 1, 2, 3, 4, 5, 6, 7, 8, 9, 10, 11, 12, 13, 14, 15, 16, 17, 18, 19, 20, 21, 22, 23, 24, 25, 26, 27, 28, 29, 30, 31, 32, 33, 34, 35, 36, 37, 38, 39, 40, 41, 42, 43, 44, 45, 46, 47, 48, 49, 50, 51, 52, 53, 54, 55, 56, 57, 58, 59, 60, 61, 62, 63, 64, 65, 66, 67, 68, 69, 70, 71, 72, 73, 74, 75, 76, 77, 78, 79, 80, 81, 82, 83, 84, 85, 86, 87, 88, 89, 90, 91, 92, 93, 94, 95, 96, 97, 98, 99]\n"
          ],
          "name": "stdout"
        }
      ]
    },
    {
      "cell_type": "markdown",
      "metadata": {
        "id": "dZoe9xsNRwVg",
        "colab_type": "text"
      },
      "source": [
        "### Operaciones sobre una lista\n",
        "Podemos realizar multiples operaciones sobre una lista:\n",
        "- **a+b**: Al igual que los strings se agrega el contenido de **b** al final de **a**. \n",
        "\n",
        "Ejemplo: "
      ]
    },
    {
      "cell_type": "code",
      "metadata": {
        "id": "aP6zec92Rvt4",
        "colab_type": "code",
        "outputId": "504f9c59-68de-4b28-cfda-ef43db29f345",
        "colab": {
          "base_uri": "https://localhost:8080/",
          "height": 35
        }
      },
      "source": [
        "a = [1, 2, 3]\n",
        "b = [6, 7, 8]\n",
        "z = a + b\n",
        "print(z)"
      ],
      "execution_count": 0,
      "outputs": [
        {
          "output_type": "stream",
          "text": [
            "[1, 2, 3, 6, 7, 8]\n"
          ],
          "name": "stdout"
        }
      ]
    },
    {
      "cell_type": "markdown",
      "metadata": {
        "id": "v2pXqx4TywlA",
        "colab_type": "text"
      },
      "source": [
        "Pero si \"a+b\" nos devuelve la concatenación, ¿cómo hacemos para sumar miembro a miembro?\n",
        "\n",
        "Para eso, debemos **acceder uno por uno a los elementos de la lista**, lo cual se hace con el operador '[ ]': \n",
        "\n",
        "\n",
        "\n"
      ]
    },
    {
      "cell_type": "code",
      "metadata": {
        "id": "EItAtKZMz4JF",
        "colab_type": "code",
        "outputId": "f0216c5f-409d-43f9-c4b0-877c20f0b6c1",
        "colab": {
          "base_uri": "https://localhost:8080/",
          "height": 35
        }
      },
      "source": [
        "a[1]"
      ],
      "execution_count": 0,
      "outputs": [
        {
          "output_type": "execute_result",
          "data": {
            "text/plain": [
              "2"
            ]
          },
          "metadata": {
            "tags": []
          },
          "execution_count": 7
        }
      ]
    },
    {
      "cell_type": "markdown",
      "metadata": {
        "id": "w3-_CwmL13hw",
        "colab_type": "text"
      },
      "source": [
        "**Muy importante**: ¡las posiciones se empiezan a contar desde 0!"
      ]
    },
    {
      "cell_type": "markdown",
      "metadata": {
        "id": "VslLjylXSM8r",
        "colab_type": "text"
      },
      "source": [
        "- **append**($algo$): permite agregar un elemento al final de la lista."
      ]
    },
    {
      "cell_type": "code",
      "metadata": {
        "id": "QTuovPNBdqtZ",
        "colab_type": "code",
        "outputId": "165e2c4c-5fee-47f8-d51a-9bf0b0d491c3",
        "colab": {
          "base_uri": "https://localhost:8080/",
          "height": 34
        }
      },
      "source": [
        "v = [\"hola\", \"como\", \"estas\"]\n",
        "v.append(\"itba\")\n",
        "print(v)"
      ],
      "execution_count": 0,
      "outputs": [
        {
          "output_type": "stream",
          "text": [
            "['hola', 'como', 'estas', 'itba']\n"
          ],
          "name": "stdout"
        }
      ]
    },
    {
      "cell_type": "code",
      "metadata": {
        "id": "pV4zyetlSQ3S",
        "colab_type": "code",
        "outputId": "a7802b48-d2f8-42cf-9c7d-99e406db2e57",
        "colab": {
          "base_uri": "https://localhost:8080/",
          "height": 51
        }
      },
      "source": [
        "v = [50,'hola',150]\n",
        "print(v)\n",
        "v.append(200) # agrego al final de la lista un elemento que vale 200\n",
        "v.append(\"hola\")\n",
        "print(v)"
      ],
      "execution_count": 0,
      "outputs": [
        {
          "output_type": "stream",
          "text": [
            "[50, 'hola', 150]\n",
            "[50, 'hola', 150, 200, 'hola']\n"
          ],
          "name": "stdout"
        }
      ]
    },
    {
      "cell_type": "markdown",
      "metadata": {
        "id": "i9xSQ3yISeVk",
        "colab_type": "text"
      },
      "source": [
        "- **pop**(): Permite remover el ultimo elemento de la lista."
      ]
    },
    {
      "cell_type": "code",
      "metadata": {
        "id": "BGTIqPDPSV1Q",
        "colab_type": "code",
        "outputId": "aca57a38-fddd-4410-9716-c0c26d935fda",
        "colab": {
          "base_uri": "https://localhost:8080/",
          "height": 34
        }
      },
      "source": [
        "\n",
        "v = [1,'1',\"a\",'c']\n",
        "v.pop() #saco el ultimo elemento \n",
        "print(v)"
      ],
      "execution_count": 0,
      "outputs": [
        {
          "output_type": "stream",
          "text": [
            "[1, '1', 'a']\n"
          ],
          "name": "stdout"
        }
      ]
    },
    {
      "cell_type": "markdown",
      "metadata": {
        "id": "yp1TUsu0SwNt",
        "colab_type": "text"
      },
      "source": [
        "- **del** lista**[**posicion**]**: Para eliminar un elemento en una posición determinada."
      ]
    },
    {
      "cell_type": "code",
      "metadata": {
        "id": "ayO6_enTSxPT",
        "colab_type": "code",
        "outputId": "04d7d0fc-f0c0-45de-b40d-3ac1f0c1c0f6",
        "colab": {
          "base_uri": "https://localhost:8080/",
          "height": 34
        }
      },
      "source": [
        "a = [\"hola\",\"como\",\"estas\"]\n",
        "del a[1]\n",
        "print(a)"
      ],
      "execution_count": 0,
      "outputs": [
        {
          "output_type": "stream",
          "text": [
            "['hola', 'estas']\n"
          ],
          "name": "stdout"
        }
      ]
    },
    {
      "cell_type": "markdown",
      "metadata": {
        "id": "As3PX6t5TToj",
        "colab_type": "text"
      },
      "source": [
        "### Operaciones con strings\n",
        "\n",
        "Con los strings podemos realizar muchas operaciones, por ejemplo:\n",
        "\n",
        "- **x+y**: En esta operacion se agrega al final de la string x el contenido de y. Ej: \n"
      ]
    },
    {
      "cell_type": "code",
      "metadata": {
        "id": "FOvEHI5aTcM1",
        "colab_type": "code",
        "outputId": "70be1a08-eae4-4d42-a64c-571801e501ae",
        "colab": {
          "base_uri": "https://localhost:8080/",
          "height": 34
        }
      },
      "source": [
        "x = 'ho'\n",
        "y = 'la'\n",
        "x += y  # Recuerden que x+=y es x=x+y\n",
        "print(x)"
      ],
      "execution_count": 0,
      "outputs": [
        {
          "output_type": "stream",
          "text": [
            "hola\n"
          ],
          "name": "stdout"
        }
      ]
    },
    {
      "cell_type": "markdown",
      "metadata": {
        "id": "VZI0KxSk3GzC",
        "colab_type": "text"
      },
      "source": [
        "## Ejercicios listas\n",
        "\n",
        "### Ejercicio 1\n",
        "Obtener la suma elemento a elemento de las listas a[] y b[]"
      ]
    },
    {
      "cell_type": "code",
      "metadata": {
        "id": "3_CzN5Uv3NC8",
        "colab_type": "code",
        "colab": {}
      },
      "source": [
        "a = [1, 2, 3, 4]\n",
        "b = [9, 8, 7, 6]\n",
        "\n",
        "suma = []   # tip: ahora que python sabe que \"suma\" es una lista, podemos usar \n",
        "            # funciones, como suma.append()\n",
        "\n",
        "# ...\n",
        "\n",
        "print(suma)"
      ],
      "execution_count": 0,
      "outputs": []
    },
    {
      "cell_type": "markdown",
      "metadata": {
        "id": "M7SZzLB53Nv-",
        "colab_type": "text"
      },
      "source": [
        "### Ejercicio 2\n"
      ]
    },
    {
      "cell_type": "markdown",
      "metadata": {
        "id": "oD3BpcUHzZDU",
        "colab_type": "text"
      },
      "source": [
        "Hacer un programa que calcule el número del alumno de una clase saco la nota más alta. Se recibe una lista donde el elemento 0 tiene la nota del alumno 0, el elemento 1 la nota del alumno 1, etc."
      ]
    },
    {
      "cell_type": "code",
      "metadata": {
        "id": "E94vhXcd3XGQ",
        "colab_type": "code",
        "colab": {}
      },
      "source": [
        "notas = [2, 5, 7, 10, 4, 2, 4]\n",
        "alumno_mejor_nota = -1 # todavia no sabemos cual es\n",
        "\n",
        "# ...\n",
        "\n",
        "print(\"El alumno\", alumno_mejor_nota, \"se saco la mejor nota: \", notas[alumno_mejor_nota])"
      ],
      "execution_count": 0,
      "outputs": []
    },
    {
      "cell_type": "markdown",
      "metadata": {
        "id": "g0ne5-tg3XwS",
        "colab_type": "text"
      },
      "source": [
        "## Challenges\n",
        "\n",
        "https://www.hackerrank.com/itba-semana-tec-2019"
      ]
    }
  ]
}